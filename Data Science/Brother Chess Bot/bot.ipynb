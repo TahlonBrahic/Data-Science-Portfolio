{
 "cells": [
  {
   "cell_type": "markdown",
   "metadata": {},
   "source": [
    "# Standard Imports"
   ]
  },
  {
   "cell_type": "code",
   "execution_count": 79,
   "metadata": {},
   "outputs": [],
   "source": [
    "# imports\n",
    "import chess\n",
    "import chess.svg\n",
    "import chess.engine\n",
    "import random\n",
    "import re\n",
    "import numpy as np"
   ]
  },
  {
   "cell_type": "markdown",
   "metadata": {},
   "source": [
    "# Load Data"
   ]
  },
  {
   "cell_type": "code",
   "execution_count": null,
   "metadata": {},
   "outputs": [],
   "source": [
    "tahlon_games = open('tahlon_games.pgn')"
   ]
  },
  {
   "cell_type": "markdown",
   "metadata": {},
   "source": [
    "# Testing Functions"
   ]
  },
  {
   "cell_type": "code",
   "execution_count": 80,
   "metadata": {},
   "outputs": [],
   "source": [
    "# random board\n",
    "def random_board(max_depth=200):\n",
    "    board = chess.Board()\n",
    "    depth = random.randrange(0, max_depth)\n",
    "\n",
    "    for _ in range(depth):\n",
    "        all_moves = list(board.legal_moves)\n",
    "        random_move = random.choice(all_moves)\n",
    "        board.push(random_move)\n",
    "        if board.is_game_over():\n",
    "            break\n",
    "    \n",
    "    return board\n",
    "\n",
    "# position score\n",
    "def position_score(board, depth):\n",
    "    engine = chess.engine.SimpleEngine.popen_uci('/content/stockfish')\n",
    "    with engine:\n",
    "        result = engine.analyse(board, chess.engine.Limit(depth=depth))\n",
    "        score = result['score'].white().score()\n",
    "        return score"
   ]
  },
  {
   "cell_type": "markdown",
   "metadata": {},
   "source": [
    "# Transionlation Dictionary\n",
    "In order for our model to interpret the chess board we have to use a python dictionary to translate chess algebraic notiation into integers."
   ]
  },
  {
   "cell_type": "code",
   "execution_count": 81,
   "metadata": {},
   "outputs": [],
   "source": [
    "algebraic_translation_dictionary = {'a':1,'b':2,'c':3,'d':4,'e':5,'f':6,'g':7,'h':8}"
   ]
  },
  {
   "cell_type": "markdown",
   "metadata": {},
   "source": [
    "# Feature Engineering\n",
    "We will be using deep learning to create this chess bot. In order to teach this neural network we have to transform the chess board into 3D tensors for each chess piece.\n",
    "The framework for these data extraction functions was developed by Moran Reznik in this video: https://www.youtube.com/watch?v=aOwvRvTPQrs&t=371s&ab_channel=MoranReznik"
   ]
  },
  {
   "cell_type": "code",
   "execution_count": 82,
   "metadata": {},
   "outputs": [],
   "source": [
    "def board_to_matrix(board):\n",
    "    pieces = ['p','r','n','b','q','k']\n",
    "    layers = []\n",
    "    for piece in pieces:\n",
    "        layers.append(create_rep_layer(board, piece))\n",
    "    board_rep = np.stack(layers)\n",
    "    return board_rep\n",
    "\n",
    "def create_rep_layer(board, type):\n",
    "    s = str(board)\n",
    "    s = re.sub(f'[^{type}{type.upper()}]', 0, s)\n",
    "    s = re.sub(f'{type}', -1, s)\n",
    "    s = re.sub(f'{type.upper()}', 1, s)\n",
    "\n",
    "    board_mat = []\n",
    "    for row in s.split('\\n'):\n",
    "        row = row.split(' ')\n",
    "        row = [int(x) for x in row]\n",
    "        board_mat.append(row)\n",
    "    \n",
    "    return np.array(board_mat)\n",
    "\n",
    "def move_to_matrix(move, board): #convert to algebraic to uci here, not sure if my dataset is in algebraic here so I may need to change this\n",
    "    board.push_san(move).uci()\n",
    "    move = str(board.pop())\n",
    "\n",
    "    from_output_layer = np.zeros((8,8))\n",
    "    from_row = 8 - int(move[1])\n",
    "    from_column = algebraic_translation_dictionary[move[0]]\n",
    "    from_output_layer[from_row,from_column] = 1\n",
    "\n",
    "    to_output_layer = np.zeroes((8,8))\n",
    "    to_row = 8 - int(move[3])\n",
    "    to_column = algebraic_translation_dictionary[move[2]]\n",
    "    to_output_layer[to_row, to_column] = 1\n",
    "\n",
    "def create_move_list(s):\n",
    "    return re.sub('\\d*\\. ', '', s).split(' ')[:-1]\n"
   ]
  },
  {
   "cell_type": "markdown",
   "metadata": {},
   "source": [
    "# Convolutional Neural Network\n",
    "The data we are training on is a collection of _ games played by my brother Tyler. The purpose of this bot is to recreate his playing style."
   ]
  },
  {
   "cell_type": "code",
   "execution_count": 83,
   "metadata": {},
   "outputs": [
    {
     "ename": "SyntaxError",
     "evalue": "incomplete input (558935021.py, line 4)",
     "output_type": "error",
     "traceback": [
      "\u001b[1;36m  Input \u001b[1;32mIn [83]\u001b[1;36m\u001b[0m\n\u001b[1;33m    def __init__(self, hidden_size):\u001b[0m\n\u001b[1;37m                                    ^\u001b[0m\n\u001b[1;31mSyntaxError\u001b[0m\u001b[1;31m:\u001b[0m incomplete input\n"
     ]
    }
   ],
   "source": [
    "class module(nn.Module):\n",
    "    def __init__(self, hidden_size):"
   ]
  },
  {
   "cell_type": "markdown",
   "metadata": {},
   "source": [
    "# Choosing Move"
   ]
  },
  {
   "cell_type": "code",
   "execution_count": null,
   "metadata": {},
   "outputs": [],
   "source": []
  }
 ],
 "metadata": {
  "kernelspec": {
   "display_name": "Python 3",
   "language": "python",
   "name": "python3"
  },
  "language_info": {
   "codemirror_mode": {
    "name": "ipython",
    "version": 3
   },
   "file_extension": ".py",
   "mimetype": "text/x-python",
   "name": "python",
   "nbconvert_exporter": "python",
   "pygments_lexer": "ipython3",
   "version": "3.10.10"
  },
  "orig_nbformat": 4
 },
 "nbformat": 4,
 "nbformat_minor": 2
}
