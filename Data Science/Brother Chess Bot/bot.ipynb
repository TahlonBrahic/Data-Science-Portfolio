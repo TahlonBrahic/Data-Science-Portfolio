{
 "cells": [
  {
   "cell_type": "markdown",
   "metadata": {},
   "source": [
    "# Standard Imports"
   ]
  },
  {
   "cell_type": "code",
   "execution_count": 31,
   "metadata": {},
   "outputs": [],
   "source": [
    "# imports\n",
    "import requests\n",
    "from io import StringIO\n",
    "\n",
    "import chess\n",
    "import chess.svg\n",
    "import chess.engine\n",
    "import chess.pgn\n",
    "\n",
    "import random\n",
    "import re\n",
    "import numpy as np\n",
    "import pandas as pd"
   ]
  },
  {
   "cell_type": "markdown",
   "metadata": {},
   "source": [
    "# Load Data"
   ]
  },
  {
   "cell_type": "code",
   "execution_count": 32,
   "metadata": {},
   "outputs": [],
   "source": [
    "tahlon_raw = 'https://raw.githubusercontent.com/TahlonBrahic/Data-Science-Portfolio/main/Data%20Science/Brother%20Chess%20Bot/tahlon_games.pgn'\n",
    "tyler_raw = 'https://raw.githubusercontent.com/TahlonBrahic/Data-Science-Portfolio/main/Data%20Science/Brother%20Chess%20Bot/tahlon_games.pgn'\n",
    "\n",
    "tahlon_response = requests.get(tahlon_raw)\n",
    "tyler_response = requests.get(tyler_raw)\n",
    "\n",
    "tahlon_pgn = StringIO(tahlon_response.text)\n",
    "tyler_pgn = StringIO(tyler_response.text)\n"
   ]
  },
  {
   "cell_type": "markdown",
   "metadata": {},
   "source": [
    "# Fix Games"
   ]
  },
  {
   "cell_type": "code",
   "execution_count": 33,
   "metadata": {},
   "outputs": [],
   "source": [
    "def pgn_to_dataframe(pgn):\n",
    "    games = []\n",
    "    for game in pgn:\n",
    "        game = chess.pgn.read_game(pgn)\n",
    "        games.append(game)\n",
    "        df = pd.DataFrame(games)\n",
    "    return df"
   ]
  },
  {
   "cell_type": "code",
   "execution_count": 34,
   "metadata": {},
   "outputs": [],
   "source": [
    "pd.set_option('display.max_colwidth', None)\n",
    "\n",
    "\n",
    "tahlon_games = pgn_to_dataframe(tahlon_pgn)\n",
    "tyler_games = pgn_to_dataframe(tyler_pgn)\n",
    "\n",
    "games_list = [tahlon_games, tyler_games]"
   ]
  },
  {
   "cell_type": "markdown",
   "metadata": {},
   "source": [
    "# Testing Functions"
   ]
  },
  {
   "cell_type": "code",
   "execution_count": 21,
   "metadata": {},
   "outputs": [],
   "source": [
    "# random board\n",
    "def random_board(max_depth=200):\n",
    "    board = chess.Board()\n",
    "    depth = random.randrange(0, max_depth)\n",
    "\n",
    "    for _ in range(depth):\n",
    "        all_moves = list(board.legal_moves)\n",
    "        random_move = random.choice(all_moves)\n",
    "        board.push(random_move)\n",
    "        if board.is_game_over():\n",
    "            break\n",
    "    \n",
    "    return board\n",
    "\n",
    "# position score\n",
    "def position_score(board, depth):\n",
    "    engine = chess.engine.SimpleEngine.popen_uci('/content/stockfish')\n",
    "    with engine:\n",
    "        result = engine.analyse(board, chess.engine.Limit(depth=depth))\n",
    "        score = result['score'].white().score()\n",
    "        return score"
   ]
  },
  {
   "cell_type": "markdown",
   "metadata": {},
   "source": [
    "# Transionlation Dictionary\n",
    "In order for our model to interpret the chess board we have to use a python dictionary to translate chess algebraic notiation into integers."
   ]
  },
  {
   "cell_type": "code",
   "execution_count": 22,
   "metadata": {},
   "outputs": [],
   "source": [
    "algebraic_translation_dictionary = {'a':1,'b':2,'c':3,'d':4,'e':5,'f':6,'g':7,'h':8}"
   ]
  },
  {
   "cell_type": "markdown",
   "metadata": {},
   "source": [
    "# Clean Data\n",
    "As you can see above our data is very messy. We need to clean it up so the algebraic representation can be tranlated to the UCI representation. Therefore it should look something like this when we are done: 1. e3 d5 2. d4 Nf3 ect..."
   ]
  },
  {
   "cell_type": "code",
   "execution_count": null,
   "metadata": {},
   "outputs": [
    {
     "ename": "",
     "evalue": "",
     "output_type": "error",
     "traceback": [
      "\u001b[1;31mRunning cells with 'c:\\Users\\tahlo\\AppData\\Local\\Programs\\Python\\Python312\\python.exe' requires the ipykernel package.\n",
      "\u001b[1;31mRun the following command to install 'ipykernel' into the Python environment. \n",
      "\u001b[1;31mCommand: 'c:/Users/tahlo/AppData/Local/Programs/Python/Python312/python.exe -m pip install ipykernel -U --user --force-reinstall'"
     ]
    }
   ],
   "source": [
    "# def remove_initial_text_from_dataframe():\n",
    "# def remove_clock_from_dataframe(df):\n",
    "# def remove_trailing_dots(df): \n",
    "\n",
    "def rename_column(df):\n",
    "    df.rename(columns = {0:'games'}, inplace = True)\n",
    "\n",
    "rename_column(tahlon_games)\n",
    "tahlon_games.games = tahlon_games.games.apply(lambda x: re.split(r\"\\n\\n\", str(x))[-1]) \n",
    "tahlon_games.games = tahlon_games.games.apply(lambda x: re.sub(r'\\{[^{}]*\\}', '', x))\n",
    "tahlon_games.games = tahlon_games.games.apply(lambda x: re.sub(r'\\.\\.', ' ', x)) \n",
    "tahlon_games"
   ]
  },
  {
   "cell_type": "markdown",
   "metadata": {},
   "source": [
    "# Feature Engineering\n",
    "We will be using deep learning to create this chess bot. In order to teach this neural network we have to transform the chess board into 3D tensors for each chess piece.\n",
    "The framework for these data extraction functions was developed by Moran Reznik in this video: https://www.youtube.com/watch?v=aOwvRvTPQrs&t=371s&ab_channel=MoranReznik"
   ]
  },
  {
   "cell_type": "code",
   "execution_count": null,
   "metadata": {},
   "outputs": [
    {
     "ename": "",
     "evalue": "",
     "output_type": "error",
     "traceback": [
      "\u001b[1;31mRunning cells with 'c:\\Users\\tahlo\\AppData\\Local\\Programs\\Python\\Python312\\python.exe' requires the ipykernel package.\n",
      "\u001b[1;31mRun the following command to install 'ipykernel' into the Python environment. \n",
      "\u001b[1;31mCommand: 'c:/Users/tahlo/AppData/Local/Programs/Python/Python312/python.exe -m pip install ipykernel -U --user --force-reinstall'"
     ]
    }
   ],
   "source": [
    "def board_to_matrix(board):\n",
    "    pieces = ['p','r','n','b','q','k']\n",
    "    layers = []\n",
    "    for piece in pieces:\n",
    "        layers.append(create_rep_layer(board, piece))\n",
    "    board_rep = np.stack(layers)\n",
    "    return board_rep\n",
    "\n",
    "def create_rep_layer(board, type):\n",
    "    s = str(board)\n",
    "    s = re.sub(f'[^{type}{type.upper()}]', 0, s)\n",
    "    s = re.sub(f'{type}', -1, s)\n",
    "    s = re.sub(f'{type.upper()}', 1, s)\n",
    "\n",
    "    board_mat = []\n",
    "    for row in s.split('\\n'):\n",
    "        row = row.split(' ')\n",
    "        row = [int(x) for x in row]\n",
    "        board_mat.append(row)\n",
    "    \n",
    "    return np.array(board_mat)\n",
    "\n",
    "def move_to_matrix(move, board): #convert to algebraic to uci here\n",
    "    board.push_san(move).uci()\n",
    "    move = str(board.pop())\n",
    "\n",
    "    from_output_layer = np.zeros((8,8))\n",
    "    from_row = 8 - int(move[1])\n",
    "    from_column = algebraic_translation_dictionary[move[0]]\n",
    "    from_output_layer[from_row,from_column] = 1\n",
    "\n",
    "    to_output_layer = np.zeroes((8,8))\n",
    "    to_row = 8 - int(move[3])\n",
    "    to_column = algebraic_translation_dictionary[move[2]]\n",
    "    to_output_layer[to_row, to_column] = 1\n",
    "\n",
    "def create_move_list(s):\n",
    "    return re.sub('\\d*\\. ', '', s).split(' ')[:-1]\n",
    "\n"
   ]
  },
  {
   "cell_type": "code",
   "execution_count": 23,
   "metadata": {},
   "outputs": [
    {
     "ename": "NameError",
     "evalue": "name 'Dataset' is not defined",
     "output_type": "error",
     "traceback": [
      "\u001b[1;31m---------------------------------------------------------------------------\u001b[0m",
      "\u001b[1;31mNameError\u001b[0m                                 Traceback (most recent call last)",
      "Input \u001b[1;32mIn [23]\u001b[0m, in \u001b[0;36m<cell line: 1>\u001b[1;34m()\u001b[0m\n\u001b[1;32m----> 1\u001b[0m \u001b[38;5;28;01mclass\u001b[39;00m \u001b[38;5;21;01mChessDataset\u001b[39;00m(\u001b[43mDataset\u001b[49m):\n\u001b[0;32m      3\u001b[0m     \u001b[38;5;28;01mdef\u001b[39;00m \u001b[38;5;21m__init__\u001b[39m(\u001b[38;5;28mself\u001b[39m, games):\n\u001b[0;32m      4\u001b[0m         \u001b[38;5;28msuper\u001b[39m(ChessDataset, \u001b[38;5;28mself\u001b[39m)\u001b[38;5;241m.\u001b[39m\u001b[38;5;21m__init__\u001b[39m()\n",
      "\u001b[1;31mNameError\u001b[0m: name 'Dataset' is not defined"
     ]
    }
   ],
   "source": [
    "class ChessDataset(Dataset):\n",
    "\n",
    "    def __init__(self, games):\n",
    "        super(ChessDataset, self).__init__()\n",
    "        self.games = games\n",
    "    \n",
    "    def __len__(self):\n",
    "        return 40_000\n",
    "\n",
    "    def __getitem__(self, index):\n",
    "        game_i = np.random.randint(self.games.shape[0])\n",
    "        random_game = tahlon_games.games.values[game_i]\n",
    "        moves = create_move_list(random_game)\n",
    "        game_state_i = np.random.randint(len(moves)-1)\n",
    "        next_move = moves[game_state_i]\n",
    "        moves = moves[:game_state_i]\n",
    "        board = chess.Board()\n",
    "        for move in moves:\n",
    "            board.push_san(move)\n",
    "        x = board_to_matrix(board)\n",
    "        y = move_to_matrix(next_move, board)\n",
    "        if game_state_i % 2 == 1:\n",
    "            x *= -1\n",
    "            return x,y"
   ]
  },
  {
   "cell_type": "code",
   "execution_count": null,
   "metadata": {},
   "outputs": [
    {
     "ename": "",
     "evalue": "",
     "output_type": "error",
     "traceback": [
      "\u001b[1;31mRunning cells with 'c:\\Users\\tahlo\\AppData\\Local\\Programs\\Python\\Python312\\python.exe' requires the ipykernel package.\n",
      "\u001b[1;31mRun the following command to install 'ipykernel' into the Python environment. \n",
      "\u001b[1;31mCommand: 'c:/Users/tahlo/AppData/Local/Programs/Python/Python312/python.exe -m pip install ipykernel -U --user --force-reinstall'"
     ]
    }
   ],
   "source": [
    "data_train = tyler_games.games\n",
    "data_train_loader = DataLoader(data_train, batch_size=32, shuffle=True, drop_last=True)"
   ]
  },
  {
   "cell_type": "markdown",
   "metadata": {},
   "source": [
    "# Convolutional Neural Network\n",
    "The data we are training on is a collection of _ games played by my brother Tyler. The purpose of this bot is to recreate his playing style."
   ]
  },
  {
   "cell_type": "code",
   "execution_count": null,
   "metadata": {},
   "outputs": [
    {
     "ename": "",
     "evalue": "",
     "output_type": "error",
     "traceback": [
      "\u001b[1;31mRunning cells with 'c:\\Users\\tahlo\\AppData\\Local\\Programs\\Python\\Python312\\python.exe' requires the ipykernel package.\n",
      "\u001b[1;31mRun the following command to install 'ipykernel' into the Python environment. \n",
      "\u001b[1;31mCommand: 'c:/Users/tahlo/AppData/Local/Programs/Python/Python312/python.exe -m pip install ipykernel -U --user --force-reinstall'"
     ]
    }
   ],
   "source": [
    "import torch\n",
    "import torch.nn as nn\n",
    "import torch.nn.functional as F\n",
    "\n",
    "class module(nn.Module):\n",
    "    def __init__(self, hidden_size):\n",
    "        super(module, self).__init__()\n",
    "        self.conv1 = nn.Conv2d(hidden_size, hidden_size, 3, stride=1, padding=1)\n",
    "        self.conv2 = nn.Conv2d(hidden_size, hidden_size, 3, stride=1, padding=1)\n",
    "        self.bn1 = nn.BatchNorm2d(hidden_size)\n",
    "        self.bn2 = nn.BatchNorm2d(hidden_size)\n",
    "        self.activation1 = nn.SELU()\n",
    "        self.activation2 = nn.SELU()\n",
    "\n",
    "    def forward(self, x):\n",
    "        x_input = torch.clone(x)\n",
    "        x = self.conv1(x)\n",
    "        x = self.bn1(x)\n",
    "        x = self.activation1(x)\n",
    "        x = self.conv2(x)\n",
    "        x = self.bn2(x)\n",
    "        x = x + x_input\n",
    "        x = self.activation2(x)\n",
    "        return x\n",
    "    \n",
    "class ChessNet(nn.Module):\n",
    "    def __init__(self, hidden_layers=4, hidden_size=200):\n",
    "        super(PolicyNet, self).__init__()\n",
    "        self.hidden_layers = hidden_layers\n",
    "        self.input_layer = nn.Conv2d(6, hidden_size, 3, stride=1, padding=1)\n",
    "        self.module_list = nn.ModuleList([module(hidden_size) for i in range(hidden_layers)])\n",
    "        self.output_layer = nn.Conv2d(hidden_size, 2, 3, stride=1, padding=1)\n",
    "\n",
    "        def foward(self, x):\n",
    "            x = self.input_layer(x)\n",
    "            x = F.relu(x)\n",
    "            for i in range(self.hidden_layers):\n",
    "                x = self.module_list[i](x)\n",
    "            x = self.output_layer(x)\n",
    "            return x"
   ]
  },
  {
   "cell_type": "markdown",
   "metadata": {},
   "source": [
    "# Choosing Move"
   ]
  },
  {
   "cell_type": "code",
   "execution_count": null,
   "metadata": {},
   "outputs": [
    {
     "ename": "",
     "evalue": "",
     "output_type": "error",
     "traceback": [
      "\u001b[1;31mRunning cells with 'c:\\Users\\tahlo\\AppData\\Local\\Programs\\Python\\Python312\\python.exe' requires the ipykernel package.\n",
      "\u001b[1;31mRun the following command to install 'ipykernel' into the Python environment. \n",
      "\u001b[1;31mCommand: 'c:/Users/tahlo/AppData/Local/Programs/Python/Python312/python.exe -m pip install ipykernel -U --user --force-reinstall'"
     ]
    }
   ],
   "source": [
    "def check_mate_single(board):\n",
    "    board = board.copy()\n",
    "    legal_moves = list(board.legal_moves)\n",
    "    for move in legal_moves:\n",
    "        board.push_uci(str(move))\n",
    "        if board.is_checkmate():\n",
    "            move = board.pop()\n",
    "            return move\n",
    "        _ = board.pop()\n",
    "\n",
    "def distribution_over_moves(vals):\n",
    "    probs = np.array(vals)\n",
    "    probs = np.exp(probs)\n",
    "    probs = probs / probs.sum()\n",
    "    probs = probs ** 3\n",
    "    probs = probs / probs.sum()\n",
    "    return probs\n",
    "\n",
    "def choose_move(board, player, color):\n",
    "    legal_moves = list(board.legal_moves)\n",
    "    move = check_mate_single(board)\n",
    "    if move is not None:\n",
    "        return move\n",
    "    \n",
    "    x = torch.Tensor(board_to_matrix(board)).float().to('cuda')\n",
    "    if color == chess.BLACK:\n",
    "        x *= -1\n",
    "    x = x.unsqueeze(0)\n",
    "    move = predict(x)\n",
    "\n",
    "    vals = []\n",
    "    froms = [str(legal_move)[:2] for legal_move in legal_moves]\n",
    "    froms = list(set(froms))\n",
    "    for from_ in froms:\n",
    "        vals = move[0,:,:][8 - int(from_[1]), algebraic_translation_dictionary[from_[0]]]\n",
    "        vals.append(val)\n",
    "\n",
    "    probs = distribution_over_moves(vals)\n",
    "\n",
    "    chosen_from = str(np.random.choice(froms, size=1, p=probs)[0][:2])\n",
    "    vals = []\n",
    "    for legal_move in legal_moves:\n",
    "        from_ = str(legal_move)[:2]\n",
    "        if from_ == chosen_from:\n",
    "            to = str(legal_move)[2:]\n",
    "            val = move[1,:,:][8 - int(to[1], algebraic_translation_dictionary[to[0]])]\n",
    "            vals.append(val)\n",
    "        else:\n",
    "            vals.append(0)\n",
    "\n",
    "    choosen_move = legal_moves[np.argmax(vals)]\n",
    "    return choosen_move"
   ]
  }
 ],
 "metadata": {
  "kernelspec": {
   "display_name": "Python 3",
   "language": "python",
   "name": "python3"
  },
  "language_info": {
   "codemirror_mode": {
    "name": "ipython",
    "version": 3
   },
   "file_extension": ".py",
   "mimetype": "text/x-python",
   "name": "python",
   "nbconvert_exporter": "python",
   "pygments_lexer": "ipython3",
   "version": "3.10.10"
  },
  "orig_nbformat": 4
 },
 "nbformat": 4,
 "nbformat_minor": 2
}
