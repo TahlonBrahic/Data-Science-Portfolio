{
 "cells": [
  {
   "cell_type": "markdown",
   "metadata": {},
   "source": [
    "# Standard Imports"
   ]
  },
  {
   "cell_type": "code",
   "execution_count": 119,
   "metadata": {},
   "outputs": [],
   "source": [
    "# imports\n",
    "import requests\n",
    "from io import StringIO\n",
    "\n",
    "import chess\n",
    "import chess.svg\n",
    "import chess.engine\n",
    "import chess.pgn\n",
    "\n",
    "import random\n",
    "import re\n",
    "import numpy as np\n",
    "import pandas as pd"
   ]
  },
  {
   "cell_type": "markdown",
   "metadata": {},
   "source": [
    "# Load Data"
   ]
  },
  {
   "cell_type": "code",
   "execution_count": 120,
   "metadata": {},
   "outputs": [],
   "source": [
    "tahlon_raw = 'https://raw.githubusercontent.com/TahlonBrahic/Data-Science-Portfolio/main/Data%20Science/Brother%20Chess%20Bot/tahlon_games.pgn'\n",
    "tyler_raw = 'https://raw.githubusercontent.com/TahlonBrahic/Data-Science-Portfolio/main/Data%20Science/Brother%20Chess%20Bot/tahlon_games.pgn'\n",
    "\n",
    "tahlon_response = requests.get(tahlon_raw)\n",
    "tyler_response = requests.get(tyler_raw)\n",
    "\n",
    "tahlon_pgn = StringIO(tahlon_response.text)\n",
    "tyler_pgn = StringIO(tyler_response.text)\n"
   ]
  },
  {
   "cell_type": "markdown",
   "metadata": {},
   "source": [
    "# Fix Games"
   ]
  },
  {
   "cell_type": "code",
   "execution_count": 121,
   "metadata": {},
   "outputs": [],
   "source": [
    "def pgn_to_dataframe(pgn):\n",
    "    games = []\n",
    "    for game in pgn:\n",
    "        game = chess.pgn.read_game(pgn)\n",
    "        games.append(game)\n",
    "        df = pd.DataFrame(games)\n",
    "    return df"
   ]
  },
  {
   "cell_type": "code",
   "execution_count": 122,
   "metadata": {},
   "outputs": [],
   "source": [
    "pd.set_option('display.max_colwidth', None)\n",
    "\n",
    "\n",
    "tahlon_games = pgn_to_dataframe(tahlon_pgn)\n",
    "tyler_games = pgn_to_dataframe(tyler_pgn)\n",
    "\n",
    "games_list = [tahlon_games, tyler_games]"
   ]
  },
  {
   "cell_type": "markdown",
   "metadata": {},
   "source": [
    "# Testing Functions"
   ]
  },
  {
   "cell_type": "code",
   "execution_count": 123,
   "metadata": {},
   "outputs": [],
   "source": [
    "# random board\n",
    "def random_board(max_depth=200):\n",
    "    board = chess.Board()\n",
    "    depth = random.randrange(0, max_depth)\n",
    "\n",
    "    for _ in range(depth):\n",
    "        all_moves = list(board.legal_moves)\n",
    "        random_move = random.choice(all_moves)\n",
    "        board.push(random_move)\n",
    "        if board.is_game_over():\n",
    "            break\n",
    "    \n",
    "    return board\n",
    "\n",
    "# position score\n",
    "def position_score(board, depth):\n",
    "    engine = chess.engine.SimpleEngine.popen_uci('/content/stockfish')\n",
    "    with engine:\n",
    "        result = engine.analyse(board, chess.engine.Limit(depth=depth))\n",
    "        score = result['score'].white().score()\n",
    "        return score"
   ]
  },
  {
   "cell_type": "markdown",
   "metadata": {},
   "source": [
    "# Transionlation Dictionary\n",
    "In order for our model to interpret the chess board we have to use a python dictionary to translate chess algebraic notiation into integers."
   ]
  },
  {
   "cell_type": "code",
   "execution_count": 124,
   "metadata": {},
   "outputs": [],
   "source": [
    "algebraic_translation_dictionary = {'a':1,'b':2,'c':3,'d':4,'e':5,'f':6,'g':7,'h':8}"
   ]
  },
  {
   "cell_type": "markdown",
   "metadata": {},
   "source": [
    "# Clean Data\n",
    "As you can see above our data is very messy. We need to clean it up so the algebraic representation can be tranlated to the UCI representation. Therefore it should look something like this when we are done: 1. e3 d5 2. d4 Nf3 ect..."
   ]
  },
  {
   "cell_type": "code",
   "execution_count": 125,
   "metadata": {},
   "outputs": [],
   "source": [
    "def rename_column(df):\n",
    "    df.rename(columns = {0:'games'}, inplace = True)"
   ]
  },
  {
   "cell_type": "code",
   "execution_count": 126,
   "metadata": {},
   "outputs": [],
   "source": [
    "def clean_data(df):\n",
    "    df.games = df.games.apply(lambda x: re.split(r\"\\n\\n\", str(x))[-1]) # removes inital text\n",
    "    df.games = df.games.apply(lambda x: re.sub(r'\\{[^{}]*\\}', '', x)) # removes clock\n",
    "    df.games = df.games.apply(lambda x: re.sub(r'\\.\\.', ' ', x)) # removes trailing dots"
   ]
  },
  {
   "cell_type": "code",
   "execution_count": 127,
   "metadata": {},
   "outputs": [],
   "source": [
    "for game in games_list:\n",
    "    rename_column(game)\n",
    "    clean_data(game)"
   ]
  },
  {
   "cell_type": "markdown",
   "metadata": {},
   "source": [
    "# Feature Engineering\n",
    "We will be using deep learning to create this chess bot. In order to teach this neural network we have to transform the chess board into 3D tensors for each chess piece.\n",
    "The framework for these data extraction functions were developed by Moran Reznik in this video: https://www.youtube.com/watch?v=aOwvRvTPQrs&t=371s&ab_channel=MoranReznik"
   ]
  },
  {
   "cell_type": "code",
   "execution_count": 163,
   "metadata": {},
   "outputs": [],
   "source": [
    "def create_rep_layer(board, piece):\n",
    "    s = str(board)\n",
    "    s = re.sub(f'[^{piece}{piece.upper()}]', '0', s)\n",
    "    s = re.sub(f'{piece}', '-1', s)\n",
    "    s = re.sub(f'{piece.upper()}', '1', s)\n",
    "\n",
    "    board_mat = []\n",
    "    for row in s.split('\\n'):\n",
    "        row = row.split(' ')\n",
    "        row = [int(x) for x in row]\n",
    "        board_mat.append(row)\n",
    "    \n",
    "    return np.array(board_mat)\n",
    "\n",
    "def board_to_matrix(board):\n",
    "    pieces = ['p','r','n','b','q','k']\n",
    "    layers = []\n",
    "    for piece in pieces:\n",
    "        layers.append(create_rep_layer(board, piece))\n",
    "    board_rep = np.stack(layers)\n",
    "    return board_rep\n",
    "\n",
    "def move_to_matrix(move, board): #convert to algebraic to uci here\n",
    "    board.push_san(move).uci()\n",
    "    move = str(board.pop())\n",
    "\n",
    "    from_output_layer = np.zeros((8,8))\n",
    "    from_row = 8 - int(move[1])\n",
    "    from_column = algebraic_translation_dictionary[move[0]]\n",
    "    from_output_layer[from_row,from_column] = 1\n",
    "\n",
    "    to_output_layer = np.zeroes((8,8))\n",
    "    to_row = 8 - int(move[3])\n",
    "    to_column = algebraic_translation_dictionary[move[2]]\n",
    "    to_output_layer[to_row, to_column] = 1\n",
    "\n",
    "    return np.stack([from_output_layer, to_output_layer])\n",
    "\n",
    "def create_move_list(s):\n",
    "    return re.sub('\\d*\\. ', '', s).split(' ')[:-1]\n",
    "\n"
   ]
  },
  {
   "cell_type": "code",
   "execution_count": 165,
   "metadata": {},
   "outputs": [
    {
     "data": {
      "text/plain": [
       "games    1. d4  1 . Nc6  2. Nc3  2 . b6  3. Bf4  3 . Ba6  4. e4  4 . e5  5. Bxa6  5 . exf4  6. g4  6 . Nxd4  7. Qxd4  7 . Ne7  8. Qe5  8 . d6  9. Qxf4  9 . g5  10. Qxg5  10 . Bg7  11. Qxg7  11 . Rg8  12. Qxh7  12 . f6  13. O-O-O  13 . b5  14. Re1  14 . b4  15. Na4  15 . Rb8  16. b3  16 . c5  17. Nc3  17 . bxc3  18. Ne2  18 . d5  19. Rhg1  19 . d4  20. g5  20 . fxg5  21. Rxg5  21 . Rb6  22. Rxg8+  22 . Nxg8  23. Qxg8+  23 . Kd7  24. Qxd8+  24 . Kxd8  25. Rh1  25 . Rxa6  26. h4  26 . Rxa2  27. h5  27 . a5  28. Kb1  28 . Ra3  29. h6  29 . Ke8  30. h7  30 . d3  31. cxd3  31 . Rxb3+  32. Kc2  32 . Rb7  33. h8=Q+  33 . Kf7  34. Qh7+  34 . Ke6  35. Qxb7  35 . a4  36. Qa7  36 . c4  37. Qxa4  37 . cxd3+  38. Kxd3  38 . c2  39. Rc1  39 . Kd6  40. Rxc2  40 . Ke6  41. f4  1-0\n",
       "Name: 0, dtype: object"
      ]
     },
     "execution_count": 165,
     "metadata": {},
     "output_type": "execute_result"
    }
   ],
   "source": [
    "tyler_games.iloc[0]"
   ]
  },
  {
   "cell_type": "code",
   "execution_count": 164,
   "metadata": {},
   "outputs": [
    {
     "ename": "ValueError",
     "evalue": "invalid literal for int() with base 10: '0000000000000000000000000000000000000000000000000000000000000000000000000000000000000000000000000000000000000000000000000000000000000000000000000000000000000000000000000000000000000000000000000000000",
     "output_type": "error",
     "traceback": [
      "\u001b[1;31m---------------------------------------------------------------------------\u001b[0m",
      "\u001b[1;31mValueError\u001b[0m                                Traceback (most recent call last)",
      "Input \u001b[1;32mIn [164]\u001b[0m, in \u001b[0;36m<cell line: 1>\u001b[1;34m()\u001b[0m\n\u001b[1;32m----> 1\u001b[0m \u001b[43mcreate_rep_layer\u001b[49m\u001b[43m(\u001b[49m\u001b[43mtyler_games\u001b[49m\u001b[38;5;241;43m.\u001b[39;49m\u001b[43miloc\u001b[49m\u001b[43m[\u001b[49m\u001b[38;5;241;43m0\u001b[39;49m\u001b[43m]\u001b[49m\u001b[43m,\u001b[49m\u001b[43m \u001b[49m\u001b[38;5;124;43m'\u001b[39;49m\u001b[38;5;124;43mp\u001b[39;49m\u001b[38;5;124;43m'\u001b[39;49m\u001b[43m)\u001b[49m\n",
      "Input \u001b[1;32mIn [163]\u001b[0m, in \u001b[0;36mcreate_rep_layer\u001b[1;34m(board, piece)\u001b[0m\n\u001b[0;32m      8\u001b[0m \u001b[38;5;28;01mfor\u001b[39;00m row \u001b[38;5;129;01min\u001b[39;00m s\u001b[38;5;241m.\u001b[39msplit(\u001b[38;5;124m'\u001b[39m\u001b[38;5;130;01m\\n\u001b[39;00m\u001b[38;5;124m'\u001b[39m):\n\u001b[0;32m      9\u001b[0m     row \u001b[38;5;241m=\u001b[39m row\u001b[38;5;241m.\u001b[39msplit(\u001b[38;5;124m'\u001b[39m\u001b[38;5;124m \u001b[39m\u001b[38;5;124m'\u001b[39m)\n\u001b[1;32m---> 10\u001b[0m     row \u001b[38;5;241m=\u001b[39m [\u001b[38;5;28mint\u001b[39m(x) \u001b[38;5;28;01mfor\u001b[39;00m x \u001b[38;5;129;01min\u001b[39;00m row]\n\u001b[0;32m     11\u001b[0m     board_mat\u001b[38;5;241m.\u001b[39mappend(row)\n\u001b[0;32m     13\u001b[0m \u001b[38;5;28;01mreturn\u001b[39;00m np\u001b[38;5;241m.\u001b[39marray(board_mat)\n",
      "Input \u001b[1;32mIn [163]\u001b[0m, in \u001b[0;36m<listcomp>\u001b[1;34m(.0)\u001b[0m\n\u001b[0;32m      8\u001b[0m \u001b[38;5;28;01mfor\u001b[39;00m row \u001b[38;5;129;01min\u001b[39;00m s\u001b[38;5;241m.\u001b[39msplit(\u001b[38;5;124m'\u001b[39m\u001b[38;5;130;01m\\n\u001b[39;00m\u001b[38;5;124m'\u001b[39m):\n\u001b[0;32m      9\u001b[0m     row \u001b[38;5;241m=\u001b[39m row\u001b[38;5;241m.\u001b[39msplit(\u001b[38;5;124m'\u001b[39m\u001b[38;5;124m \u001b[39m\u001b[38;5;124m'\u001b[39m)\n\u001b[1;32m---> 10\u001b[0m     row \u001b[38;5;241m=\u001b[39m [\u001b[38;5;28;43mint\u001b[39;49m\u001b[43m(\u001b[49m\u001b[43mx\u001b[49m\u001b[43m)\u001b[49m \u001b[38;5;28;01mfor\u001b[39;00m x \u001b[38;5;129;01min\u001b[39;00m row]\n\u001b[0;32m     11\u001b[0m     board_mat\u001b[38;5;241m.\u001b[39mappend(row)\n\u001b[0;32m     13\u001b[0m \u001b[38;5;28;01mreturn\u001b[39;00m np\u001b[38;5;241m.\u001b[39marray(board_mat)\n",
      "\u001b[1;31mValueError\u001b[0m: invalid literal for int() with base 10: '0000000000000000000000000000000000000000000000000000000000000000000000000000000000000000000000000000000000000000000000000000000000000000000000000000000000000000000000000000000000000000000000000000000"
     ]
    }
   ],
   "source": [
    "create_rep_layer(tyler_games.iloc[0], 'p')"
   ]
  },
  {
   "cell_type": "code",
   "execution_count": 130,
   "metadata": {},
   "outputs": [],
   "source": [
    "from torch.utils.data import Dataset\n",
    "\n",
    "class ChessDataset(Dataset):\n",
    "\n",
    "    def __init__(self, games):\n",
    "        super(ChessDataset, self).__init__()\n",
    "        self.games = games\n",
    "    \n",
    "    def __len__(self):\n",
    "        return 40_000\n",
    "\n",
    "    def __getitem__(self, index): # select a random game then a random move from that game\n",
    "        game_i = np.random.randint(self.games.shape[0])\n",
    "        random_game = tahlon_games.games.values[game_i]\n",
    "        moves = create_move_list(random_game)\n",
    "        game_state_i = np.random.randint(len(moves)-1)\n",
    "        next_move = moves[game_state_i]\n",
    "        moves = moves[:game_state_i]\n",
    "        board = chess.Board()\n",
    "        for move in moves:\n",
    "            board.push_san(move)\n",
    "        x = board_to_matrix(board)\n",
    "        y = move_to_matrix(next_move, board)\n",
    "        if game_state_i % 2 == 1: \n",
    "            x *= -1\n",
    "            return x,y"
   ]
  },
  {
   "cell_type": "markdown",
   "metadata": {},
   "source": [
    "# Convolutional Neural Network\n",
    "The data we are training on is a collection of 25 games played by my brother Tyler. The purpose of this bot is to recreate his playing style."
   ]
  },
  {
   "cell_type": "code",
   "execution_count": 131,
   "metadata": {},
   "outputs": [],
   "source": [
    "import torch\n",
    "import torch.nn as nn\n",
    "import torch.nn.functional as F\n",
    "\n",
    "class module(nn.Module):\n",
    "    def __init__(self, hidden_size):\n",
    "        super(module, self).__init__()\n",
    "        self.conv1 = nn.Conv2d(hidden_size, hidden_size, 3, stride=1, padding=1)\n",
    "        self.conv2 = nn.Conv2d(hidden_size, hidden_size, 3, stride=1, padding=1)\n",
    "        self.bn1 = nn.BatchNorm2d(hidden_size)\n",
    "        self.bn2 = nn.BatchNorm2d(hidden_size)\n",
    "        self.activation1 = nn.SELU()\n",
    "        self.activation2 = nn.SELU()\n",
    "\n",
    "    def forward(self, x):\n",
    "        x_input = torch.clone(x)\n",
    "        x = self.conv1(x)\n",
    "        x = self.bn1(x)\n",
    "        x = self.activation1(x)\n",
    "        x = self.conv2(x)\n",
    "        x = self.bn2(x)\n",
    "        x = x + x_input\n",
    "        x = self.activation2(x)\n",
    "        return x\n",
    "    \n",
    "class ChessNet(nn.Module):\n",
    "    def __init__(self, hidden_layers=4, hidden_size=200):\n",
    "        super(ChessNet, self).__init__()\n",
    "        self.hidden_layers = hidden_layers\n",
    "        self.input_layer = nn.Conv2d(6, hidden_size, 3, stride=1, padding=1)\n",
    "        self.module_list = nn.ModuleList([module(hidden_size) for i in range(hidden_layers)])\n",
    "        self.output_layer = nn.Conv2d(hidden_size, 2, 3, stride=1, padding=1)\n",
    "\n",
    "        def foward(self, x):\n",
    "            x = self.input_layer(x)\n",
    "            x = F.relu(x)\n",
    "            for i in range(self.hidden_layers):\n",
    "                x = self.module_list[i](x)\n",
    "            x = self.output_layer(x)\n",
    "            return x"
   ]
  },
  {
   "cell_type": "markdown",
   "metadata": {},
   "source": [
    "# Training the model"
   ]
  },
  {
   "cell_type": "code",
   "execution_count": 132,
   "metadata": {},
   "outputs": [],
   "source": [
    "from torch.utils.data import DataLoader\n",
    "\n",
    "data_train = tyler_games.games\n",
    "data_train_loader = DataLoader(data_train, batch_size=32, shuffle=True, drop_last=True)"
   ]
  },
  {
   "cell_type": "code",
   "execution_count": 133,
   "metadata": {},
   "outputs": [
    {
     "name": "stdout",
     "output_type": "stream",
     "text": [
      "Epoch 1/10, Loss: 0\n",
      "Epoch 2/10, Loss: 0\n",
      "Epoch 3/10, Loss: 0\n",
      "Epoch 4/10, Loss: 0\n",
      "Epoch 5/10, Loss: 0\n",
      "Epoch 6/10, Loss: 0\n",
      "Epoch 7/10, Loss: 0\n",
      "Epoch 8/10, Loss: 0\n",
      "Epoch 9/10, Loss: 0\n",
      "Epoch 10/10, Loss: 0\n"
     ]
    }
   ],
   "source": [
    "chess_net = ChessNet(hidden_layers=4, hidden_size=200)\n",
    "loss_function = nn.CrossEntropyLoss()\n",
    "optimizer = torch.optim.Adam(chess_net.parameters(), lr=0.001)\n",
    "\n",
    "num_epochs = 10  \n",
    "\n",
    "for epoch in range(num_epochs):\n",
    "    for inputs, targets in data_train_loader:\n",
    "        optimizer.zero_grad()\n",
    "\n",
    "        # Forward pass\n",
    "        outputs = chess_net(inputs)\n",
    "        loss = loss_function(outputs, targets)\n",
    "\n",
    "        # Backward pass and optimization\n",
    "        loss.backward()\n",
    "        optimizer.step()\n",
    "\n",
    "    print(f'Epoch {epoch + 1}/{num_epochs}, Loss: {loss}') # need to fix loss"
   ]
  },
  {
   "cell_type": "markdown",
   "metadata": {},
   "source": [
    "# Choosing Move\n",
    "The reason we have both a predict and a choose move function is that there may be some cases that we do not want our model to predict the next move. Instead we want to rely on our algorithm to decide like in cases where there is a check in one."
   ]
  },
  {
   "cell_type": "code",
   "execution_count": 134,
   "metadata": {},
   "outputs": [],
   "source": [
    "def check_mate_single(board):\n",
    "    board = board.copy()\n",
    "    legal_moves = list(board.legal_moves)\n",
    "    for move in legal_moves:\n",
    "        board.push_uci(str(move))\n",
    "        if board.is_checkmate():\n",
    "            move = board.pop()\n",
    "            return move\n",
    "        _ = board.pop()\n",
    "\n",
    "def distribution_over_moves(vals):\n",
    "    probs = np.array(vals)\n",
    "    probs = np.exp(probs)\n",
    "    probs = probs / probs.sum()\n",
    "    probs = probs ** 3\n",
    "    probs = probs / probs.sum()\n",
    "    return probs\n",
    "\n",
    "def predict_next_move(board):\n",
    "    pass\n",
    "\n",
    "def choose_move(board, player, color):\n",
    "    legal_moves = list(board.legal_moves)\n",
    "    move = check_mate_single(board)\n",
    "    if move is not None:\n",
    "        return move\n",
    "    \n",
    "    x = torch.Tensor(board_to_matrix(board)).float().to('cuda')\n",
    "    if color == chess.BLACK:\n",
    "        x *= -1\n",
    "    x = x.unsqueeze(0)\n",
    "    move = chess_net.predict_next_move(x)\n",
    "\n",
    "    vals = []\n",
    "    froms = [str(legal_move)[:2] for legal_move in legal_moves]\n",
    "    froms = list(set(froms))\n",
    "    for from_ in froms:\n",
    "        vals = move[0,:,:][8 - int(from_[1]), algebraic_translation_dictionary[from_[0]]]\n",
    "        vals.append(val)\n",
    "\n",
    "    probs = distribution_over_moves(vals)\n",
    "\n",
    "    chosen_from = str(np.random.choice(froms, size=1, p=probs)[0][:2])\n",
    "    vals = []\n",
    "    for legal_move in legal_moves:\n",
    "        from_ = str(legal_move)[:2]\n",
    "        if from_ == chosen_from:\n",
    "            to = str(legal_move)[2:]\n",
    "            val = move[1,:,:][8 - int(to[1], algebraic_translation_dictionary[to[0]])]\n",
    "            vals.append(val)\n",
    "        else:\n",
    "            vals.append(0)\n",
    "\n",
    "    choosen_move = legal_moves[np.argmax(vals)]\n",
    "    return choosen_move"
   ]
  }
 ],
 "metadata": {
  "kernelspec": {
   "display_name": "Python 3",
   "language": "python",
   "name": "python3"
  },
  "language_info": {
   "codemirror_mode": {
    "name": "ipython",
    "version": 3
   },
   "file_extension": ".py",
   "mimetype": "text/x-python",
   "name": "python",
   "nbconvert_exporter": "python",
   "pygments_lexer": "ipython3",
   "version": "3.10.10"
  },
  "orig_nbformat": 4
 },
 "nbformat": 4,
 "nbformat_minor": 2
}
